{
 "cells": [
  {
   "cell_type": "markdown",
   "id": "580758e3-c202-4526-9ea3-d945b9a1865f",
   "metadata": {
    "jp-MarkdownHeadingCollapsed": true
   },
   "source": [
    "## Step 2: Data Exploration:"
   ]
  },
  {
   "cell_type": "code",
   "execution_count": 1,
   "id": "1d3e97cf-667a-46b4-9e4f-3ac16a33addf",
   "metadata": {},
   "outputs": [],
   "source": [
    "import os\n",
    "import matplotlib.pyplot as plt\n",
    "import numpy as np\n",
    "from PIL import Image\n",
    "import seaborn as sns\n",
    "import cv2\n",
    "from collections import Counter"
   ]
  },
  {
   "cell_type": "code",
   "execution_count": 2,
   "id": "d7540ada-940d-4523-8d19-1d5759c8517c",
   "metadata": {},
   "outputs": [],
   "source": [
    "# Define dataset path\n",
    "dataset_path = \"EuroSAT/2750/\""
   ]
  },
  {
   "cell_type": "code",
   "execution_count": 3,
   "id": "caac1d87-cdcf-4411-8486-cd634ad2eb0a",
   "metadata": {},
   "outputs": [],
   "source": [
    "# List all land type categories\n",
    "categories = os.listdir(dataset_path)"
   ]
  },
  {
   "cell_type": "markdown",
   "id": "20f12034-ca92-4f12-88d6-1c228df455cd",
   "metadata": {
    "jp-MarkdownHeadingCollapsed": true
   },
   "source": [
    "## Step 3: Data Preprocessing"
   ]
  },
  {
   "cell_type": "code",
   "execution_count": 4,
   "id": "92d05cab-c30b-4d48-9089-5b1738e4ee7e",
   "metadata": {},
   "outputs": [],
   "source": [
    "from sklearn.model_selection import train_test_split\n",
    "from tensorflow.keras.preprocessing.image import ImageDataGenerator"
   ]
  },
  {
   "cell_type": "code",
   "execution_count": 5,
   "id": "a3edd8b8-017b-4d12-a3ea-81bc12a1feeb",
   "metadata": {},
   "outputs": [],
   "source": [
    "# Resize, normalize, and convert to RGB\n",
    "def load_and_preprocess_images(path, size=(224, 224)):\n",
    "    data, labels = [], []\n",
    "    for category in categories:\n",
    "        category_path = os.path.join(path, category)\n",
    "        for img_name in os.listdir(category_path):\n",
    "            img = cv2.imread(os.path.join(category_path, img_name))\n",
    "            img = cv2.resize(img, size)\n",
    "            img = cv2.cvtColor(img, cv2.COLOR_BGR2RGB)  # Convert BGR to RGB\n",
    "            img = img / 255.0  # Normalize to [0,1]\n",
    "            data.append(img)\n",
    "            labels.append(category)\n",
    "    return np.array(data, dtype=\"float32\"), np.array(labels)"
   ]
  },
  {
   "cell_type": "code",
   "execution_count": 6,
   "id": "8f8c6529-1af7-4793-a180-19055e22a8f8",
   "metadata": {},
   "outputs": [],
   "source": [
    "# Load data\n",
    "data, labels = load_and_preprocess_images(dataset_path)"
   ]
  },
  {
   "cell_type": "code",
   "execution_count": 7,
   "id": "96f8fc09-adac-46c1-9c78-0dbe8f986924",
   "metadata": {},
   "outputs": [],
   "source": [
    "from sklearn.preprocessing import LabelEncoder\n",
    "from tensorflow.keras.utils import to_categorical\n",
    "from tensorflow.keras.preprocessing.image import ImageDataGenerator"
   ]
  },
  {
   "cell_type": "code",
   "execution_count": 8,
   "id": "cfde6993-87d5-4637-bf88-aed0769f611e",
   "metadata": {},
   "outputs": [],
   "source": [
    "# Encode labels into integers\n",
    "label_encoder = LabelEncoder()\n",
    "labels_encoded = label_encoder.fit_transform(labels)  # Convert category names to integer labels"
   ]
  },
  {
   "cell_type": "code",
   "execution_count": 9,
   "id": "24e3dce9-cbf9-4de4-9bec-20126297e3b1",
   "metadata": {},
   "outputs": [],
   "source": [
    "# Convert to one-hot encoding\n",
    "labels_categorical = to_categorical(labels_encoded)"
   ]
  },
  {
   "cell_type": "code",
   "execution_count": 19,
   "id": "8ede2900-1f48-4573-a163-6879be5073a6",
   "metadata": {},
   "outputs": [],
   "source": [
    "# Split dataset into train (70%), validation (20%), and test (10%)\n",
    "X_train, X_temp, y_train, y_temp = train_test_split(data, labels_categorical, test_size=0.3, random_state=42)\n",
    "X_val, X_test, y_val, y_test = train_test_split(X_temp, y_temp, test_size=1/3, random_state=42)"
   ]
  },
  {
   "cell_type": "code",
   "execution_count": 20,
   "id": "448a0fab-6336-4e58-af34-cca5e19c538e",
   "metadata": {},
   "outputs": [],
   "source": [
    "# Data augmentation\n",
    "datagen = ImageDataGenerator(\n",
    "    rotation_range=20,\n",
    "    width_shift_range=0.2,\n",
    "    height_shift_range=0.2,\n",
    "    horizontal_flip=True,\n",
    "    zoom_range=0.2,\n",
    ")\n",
    "\n",
    "# datagen = ImageDataGenerator(\n",
    "#     rotation_range=25,    # Slightly increased, but not too much\n",
    "#     width_shift_range=0.2,\n",
    "#     height_shift_range=0.2,\n",
    "#     zoom_range=0.2,\n",
    "#     horizontal_flip=True,\n",
    "#     shear_range=0.1  # Just a little shear (not too aggressive)\n",
    "# )\n",
    "\n",
    "\n",
    "# datagen = ImageDataGenerator(\n",
    "#     rotation_range=20,\n",
    "#     width_shift_range=0.2,\n",
    "#     height_shift_range=0.2,\n",
    "#     horizontal_flip=True,\n",
    "#     zoom_range=0.2,\n",
    "#     shear_range=0.15,   # Skewing effect for robustness\n",
    "# )"
   ]
  },
  {
   "cell_type": "code",
   "execution_count": 21,
   "id": "7f64106e-e0b0-4620-9a11-1a26e4ba874a",
   "metadata": {},
   "outputs": [],
   "source": [
    "val_test_datagen = ImageDataGenerator()\n",
    "\n",
    "# Final datasets\n",
    "train_generator = datagen.flow(X_train, y_train, batch_size=32, shuffle=True)\n",
    "val_generator = val_test_datagen.flow(X_val, y_val, batch_size=32, shuffle=False)\n",
    "test_generator = val_test_datagen.flow(X_test, y_test, batch_size=32, shuffle=False)"
   ]
  },
  {
   "cell_type": "code",
   "execution_count": null,
   "id": "4b218ea0-e94f-4be6-a220-07b87e53f6f6",
   "metadata": {},
   "outputs": [],
   "source": []
  }
 ],
 "metadata": {
  "kernelspec": {
   "display_name": "Python 3 (ipykernel)",
   "language": "python",
   "name": "python3"
  },
  "language_info": {
   "codemirror_mode": {
    "name": "ipython",
    "version": 3
   },
   "file_extension": ".py",
   "mimetype": "text/x-python",
   "name": "python",
   "nbconvert_exporter": "python",
   "pygments_lexer": "ipython3",
   "version": "3.12.7"
  }
 },
 "nbformat": 4,
 "nbformat_minor": 5
}
